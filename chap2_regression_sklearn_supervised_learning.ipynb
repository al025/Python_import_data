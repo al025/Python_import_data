{
  "nbformat": 4,
  "nbformat_minor": 0,
  "metadata": {
    "colab": {
      "name": "chap2_regression_sklearn_supervised_learning",
      "provenance": [],
      "collapsed_sections": [],
      "authorship_tag": "ABX9TyNT8HoYfmtmFpYa2uxx4IfK",
      "include_colab_link": true
    },
    "kernelspec": {
      "name": "python3",
      "display_name": "Python 3"
    }
  },
  "cells": [
    {
      "cell_type": "markdown",
      "metadata": {
        "id": "view-in-github",
        "colab_type": "text"
      },
      "source": [
        "<a href=\"https://colab.research.google.com/github/al025/Python_import_data/blob/master/chap2_regression_sklearn_supervised_learning.ipynb\" target=\"_parent\"><img src=\"https://colab.research.google.com/assets/colab-badge.svg\" alt=\"Open In Colab\"/></a>"
      ]
    },
    {
      "cell_type": "code",
      "metadata": {
        "id": "UXSc9fu0Uz_9",
        "colab_type": "code",
        "colab": {}
      },
      "source": [
        "# import basic packages (other packages for specific tasks will be imported later)\n",
        "import pandas as pd\n",
        "import numpy as np\n",
        "from sklearn import datasets\n",
        "import matplotlib.pyplot as plt"
      ],
      "execution_count": 0,
      "outputs": []
    },
    {
      "cell_type": "code",
      "metadata": {
        "id": "7qljx9JJVDNt",
        "colab_type": "code",
        "outputId": "58f45e0f-2ee4-4ae5-b5b5-4100c1c06261",
        "colab": {
          "base_uri": "https://localhost:8080/",
          "height": 53
        }
      },
      "source": [
        "# use the built-in Boston Housing Price dataset\n",
        "boston = datasets.load_boston()\n",
        "print(type(boston))\n",
        "print(boston.keys())"
      ],
      "execution_count": 24,
      "outputs": [
        {
          "output_type": "stream",
          "text": [
            "<class 'sklearn.utils.Bunch'>\n",
            "dict_keys(['data', 'target', 'feature_names', 'DESCR', 'filename'])\n"
          ],
          "name": "stdout"
        }
      ]
    },
    {
      "cell_type": "code",
      "metadata": {
        "id": "3sW6aaReV-SX",
        "colab_type": "code",
        "colab": {}
      },
      "source": [
        "# assign the feature matrix and the target vector\n",
        "X, y = boston.data, boston.target"
      ],
      "execution_count": 0,
      "outputs": []
    },
    {
      "cell_type": "code",
      "metadata": {
        "id": "TJiMK0hR3yus",
        "colab_type": "code",
        "colab": {}
      },
      "source": [
        "# Since the target variable, price, is a continuous variable, we use linear regression model\n",
        "from sklearn.linear_model import LinearRegression\n",
        "from sklearn.model_selection import train_test_split\n",
        "# ordinary least squares (OLS) = sum((y_true - y_pred)^2)\n",
        "# we use mean of squared residuals as a way to evaluate the linear model \n",
        "from sklearn.metrics import mean_squared_error\n"
      ],
      "execution_count": 0,
      "outputs": []
    },
    {
      "cell_type": "code",
      "metadata": {
        "id": "7yBYqsmT4aVn",
        "colab_type": "code",
        "colab": {
          "base_uri": "https://localhost:8080/",
          "height": 53
        },
        "outputId": "28fe1915-fdb2-4c16-a81e-dc624525f9ab"
      },
      "source": [
        "X_train, X_test, y_train, y_test = train_test_split(X, y, \n",
        "  test_size=0.3, random_state=42)\n",
        "reg = LinearRegression()\n",
        "reg.fit(X_train, y_train)\n",
        "y_pred = reg.predict(X_test)\n",
        "print(\"R^2: {}\".format(reg.score(X_test, y_test)))\n",
        "rmse = np.sqrt(mean_squared_error(y_pred, y_test))\n",
        "print(\"Root of Mean of Squared Residuals: {}\".format(rmse))"
      ],
      "execution_count": 27,
      "outputs": [
        {
          "output_type": "stream",
          "text": [
            "R^2: 0.7112260057484974\n",
            "Root of Mean of Squared Residuals: 4.638689926172788\n"
          ],
          "name": "stdout"
        }
      ]
    },
    {
      "cell_type": "markdown",
      "metadata": {
        "id": "clpCa0zD9y_l",
        "colab_type": "text"
      },
      "source": [
        "### What is $R^2$? \n",
        "$R^2 = 1 - \\frac{\\sum_i (y\\_true^{(i)} -y\\_pred^{(i)})^2}{\\sum_j(y\\_true^{(j)}-\\overline{y\\_true})^2} $\n",
        "\n",
        "LinearRegression.score(self, X, y)\n",
        "\n",
        "Return the coefficient of determination R^2 of the prediction.\n",
        "\n",
        "The coefficient R^2 is defined as (1 - u/v), where u is the residual sum of squares ((y_true - y_pred) ** 2).sum() and v is the total sum of squares ((y_true - y_true.mean()) ** 2).sum(). The best possible score is 1.0 and it can be negative (because the model can be arbitrarily worse). A constant model that always predicts the expected value of y, disregarding the input features, would get a R^2 score of 0.0."
      ]
    },
    {
      "cell_type": "code",
      "metadata": {
        "id": "hlar2OIK8Md-",
        "colab_type": "code",
        "colab": {
          "base_uri": "https://localhost:8080/",
          "height": 71
        },
        "outputId": "ac19783f-d3f7-49e6-d005-e1aa3ba73a0c"
      },
      "source": [
        "# to maximize the use of avaliable data, we can use cross validation \n",
        "from sklearn.model_selection import cross_val_score\n",
        "cv_scores = cross_val_score(reg, X, y, cv = 3)\n",
        "print(cv_scores)\n",
        "print(\"The average score of 3-fold cross validation: {}\".format(np.mean(cv_scores)))\n",
        "%timeit cross_val_score(reg, X, y, cv=3)"
      ],
      "execution_count": 28,
      "outputs": [
        {
          "output_type": "stream",
          "text": [
            "[ 0.5839083   0.53248448 -5.86898835]\n",
            "The average score of 3-fold cross validation: -1.584198522099707\n",
            "100 loops, best of 3: 4.26 ms per loop\n"
          ],
          "name": "stdout"
        }
      ]
    },
    {
      "cell_type": "code",
      "metadata": {
        "id": "XNR-f2Ag8q2v",
        "colab_type": "code",
        "colab": {
          "base_uri": "https://localhost:8080/",
          "height": 89
        },
        "outputId": "c1e105d1-5902-4df3-de4f-098b3e896531"
      },
      "source": [
        "cv_scores = cross_val_score(reg, X, y, cv = 10)\n",
        "print(cv_scores)\n",
        "print(\"The average score of 10-fold cross validation: {}\".format(np.mean(cv_scores)))\n",
        "%timeit cross_val_score(reg, X, y, cv=10)\n",
        "# a 10-fold cv is more computationally expensive"
      ],
      "execution_count": 43,
      "outputs": [
        {
          "output_type": "stream",
          "text": [
            "[ 0.73376082  0.4730725  -1.00631454  0.64113984  0.54766046  0.73640292\n",
            "  0.37828386 -0.12922703 -0.76843243  0.4189435 ]\n",
            "The average score of 10-fold cross validation: 0.20252899006055863\n",
            "100 loops, best of 3: 13.6 ms per loop\n"
          ],
          "name": "stdout"
        }
      ]
    },
    {
      "cell_type": "code",
      "metadata": {
        "id": "g1e2Mf2oGEfD",
        "colab_type": "code",
        "colab": {
          "base_uri": "https://localhost:8080/",
          "height": 350
        },
        "outputId": "abdac784-ce81-4eec-a9c0-1dbd89804071"
      },
      "source": [
        "# we can regularize our model to avoid overfitting \n",
        "# one way of regularization is L1 regularization (adding the L1 norm of coefficients to the loss function)\n",
        "# aka Lasso regularization. Lasso is good for selecting the most important features\n",
        "from sklearn.linear_model import Lasso\n",
        "lasso = Lasso(alpha=0.2, normalize=True)  # Question: try different alpha values: 0.1, 0.2, 0.3, 0.4. Why different features would be chosen as\n",
        "                        # the most important feature (its coefficient has the greatest magnitude?)\n",
        "lasso.fit(X_train, y_train)\n",
        "lasso_coef = lasso.coef_\n",
        "print(lasso_coef)\n",
        "\n",
        "plt.plot(range(len(boston.feature_names)), lasso_coef)\n",
        "plt.xticks(range(len(boston.feature_names)), boston.feature_names, rotation=60)\n",
        "plt.margins(0.02)\n",
        "plt.show()"
      ],
      "execution_count": 30,
      "outputs": [
        {
          "output_type": "stream",
          "text": [
            "[-0.          0.         -0.          0.         -0.          1.76047366\n",
            " -0.          0.         -0.         -0.         -0.          0.\n",
            " -0.34625676]\n"
          ],
          "name": "stdout"
        },
        {
          "output_type": "display_data",
          "data": {
            "image/png": "[encoded data removed]",
            "text/plain": [
              "<Figure size 432x288 with 1 Axes>"
            ]
          },
          "metadata": {
            "tags": [],
            "needs_background": "light"
          }
        }
      ]
    },
    {
      "cell_type": "code",
      "metadata": {
        "id": "CdliW5KMIWYI",
        "colab_type": "code",
        "colab": {
          "base_uri": "https://localhost:8080/",
          "height": 283
        },
        "outputId": "8e51d6c8-d55d-47b8-a1ac-53ed86a72abf"
      },
      "source": [
        "# another way of regularization is L2 regularization (adding the L2 norm of the coefficents to the loss function)\n",
        "# aka Ridge regularization (more commonly used)\n",
        "# alpha: the weight of the added term in the loss function is a hyperparameter \n",
        "# we can tune alpha by trying different values and pick the one results in highest cross validation score\n",
        "from sklearn.linear_model import Ridge\n",
        "from sklearn.model_selection import cross_val_score\n",
        "\n",
        "ridge = Ridge(normalize=True)\n",
        "alpha_space = np.logspace(-4, 0, 50)\n",
        "ridge_scores = []\n",
        "std_ridge_scores = []\n",
        "\n",
        "for alpha in alpha_space:\n",
        "  ridge.alpha = alpha\n",
        "  cvs = cross_val_score(ridge, X, y, cv=10)\n",
        "  ridge_scores.append(np.mean(cvs))\n",
        "  std_ridge_scores.append(np.std(cvs))\n",
        "\n",
        "def display_plot(alpha_space, cv_scores, std_cv_scores):\n",
        "  fig = plt.figure()\n",
        "  ax = fig.add_subplot(1, 1, 1)\n",
        "  ax.plot(alpha_space, cv_scores)\n",
        "\n",
        "  std_err = std_cv_scores / np.sqrt(len(cv_scores))\n",
        "\n",
        "  ax.fill_between(alpha_space, cv_scores + std_err, cv_scores - std_err,\n",
        "                  alpha=0.2)\n",
        "  ax.set_ylabel('cv_scores +/- std_err')\n",
        "  ax.set_xlabel('Alpha')\n",
        "  ax.axhline(max(cv_scores), linestyle='--', color='.5')\n",
        "  ax.set_xlim(min(alpha_space), max(alpha_space))\n",
        "  ax.set_xscale('log')\n",
        "  plt.show()\n",
        "\n",
        "display_plot(alpha_space, ridge_scores, std_ridge_scores)"
      ],
      "execution_count": 42,
      "outputs": [
        {
          "output_type": "display_data",
          "data": {
            "image/png": "[encoded data removed]",
            "text/plain": [
              "<Figure size 432x288 with 1 Axes>"
            ]
          },
          "metadata": {
            "tags": [],
            "needs_background": "light"
          }
        }
      ]
    },
    {
      "cell_type": "code",
      "metadata": {
        "id": "m6yCjXbzYMOv",
        "colab_type": "code",
        "colab": {}
      },
      "source": [
        ""
      ],
      "execution_count": 0,
      "outputs": []
    }
  ]
}